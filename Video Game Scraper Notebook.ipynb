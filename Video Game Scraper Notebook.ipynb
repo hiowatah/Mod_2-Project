{
 "cells": [
  {
   "cell_type": "code",
   "execution_count": 5,
   "metadata": {},
   "outputs": [],
   "source": [
    "import requests\n",
    "import pandas as pd\n",
    "import numpy as np\n",
    "import matplotlib.pyplot as plt\n",
    "from bs4 import BeautifulSoup\n",
    "import time"
   ]
  },
  {
   "cell_type": "code",
   "execution_count": 2,
   "metadata": {},
   "outputs": [],
   "source": [
    "#to loop through the urls to scrape a year's worth of data. Starting point is week ending Janaury 7, 2017"
   ]
  },
  {
   "cell_type": "code",
   "execution_count": 85,
   "metadata": {},
   "outputs": [],
   "source": [
    "#empty lists to gather my data\n",
    "\n",
    "#Global\n",
    "game_title = []\n",
    "weekly_sales = []\n",
    "total_sales = []\n",
    "num_weeks_out = []"
   ]
  },
  {
   "cell_type": "code",
   "execution_count": 2,
   "metadata": {},
   "outputs": [],
   "source": [
    "US_game_title = []\n",
    "US_weekly_sales = []\n",
    "US_total_sales = []\n",
    "US_num_weeks_out = []"
   ]
  },
  {
   "cell_type": "code",
   "execution_count": 1,
   "metadata": {},
   "outputs": [],
   "source": [
    "def webscraper(starting, country):\n",
    "    url = 'http://www.vgchartz.com/weekly/' + starting +'/' + country+ '/'\n",
    "    soup = BeautifulSoup(requests.get(url).content, 'html.parser')\n",
    "    weekly_data = []\n",
    "    counter = 4\n",
    "    while counter <=62:\n",
    "        for info in soup.find('div', id = 'mainContainerSub').div.div.div.find_all('tr')[counter].find_all('td'):\n",
    "            weekly_data.append(info.text)\n",
    "        counter +=2\n",
    "    \n",
    "    return weekly_data  \n",
    "        "
   ]
  },
  {
   "cell_type": "code",
   "execution_count": 10,
   "metadata": {},
   "outputs": [],
   "source": [
    "def data_collector(game_title, weekly_sales, total_sales, num_weeks_out, webscraper):\n",
    "    game_title.append(webscraper[3::7])\n",
    "    weekly_sales.append(webscraper[4::7])\n",
    "    total_sales.append(webscraper[5::7])\n",
    "    num_weeks_out.append(webscraper[6::7])\n",
    "    \n",
    "    return game_title, weekly_sales, total_sales, num_weeks_out"
   ]
  },
  {
   "cell_type": "code",
   "execution_count": 14,
   "metadata": {},
   "outputs": [],
   "source": [
    "#to consolidate each list of list into 1 list and add to pandas dataframe\n",
    "def flattener(many_lists):\n",
    "    flat_list = []\n",
    "    for sublist in many_lists:\n",
    "        for item in sublist:\n",
    "            flat_list.append(item)\n",
    "    return flat_list"
   ]
  },
  {
   "cell_type": "markdown",
   "metadata": {},
   "source": [
    "# Global Sales Data Below"
   ]
  },
  {
   "cell_type": "code",
   "execution_count": 92,
   "metadata": {},
   "outputs": [],
   "source": [
    "#Need to restart at 43002 - while loop breaks because the site has no data for week of 9/16/2017.\n",
    "starting_point = 42743\n",
    "\n",
    "while starting_point <= 43464:\n",
    "    a = webscraper(str(starting_point))\n",
    "    b = data_collector(items, game_title, weekly_sales, total_sales, num_weeks_out, a)\n",
    "    starting_point+=7\n",
    "    time.sleep(3)\n"
   ]
  },
  {
   "cell_type": "code",
   "execution_count": null,
   "metadata": {},
   "outputs": [],
   "source": [
    "\"\"\"\n",
    "Skipped week ending September 16, 2017,\n",
    "\"\"\""
   ]
  },
  {
   "cell_type": "code",
   "execution_count": 102,
   "metadata": {},
   "outputs": [],
   "source": [
    "games = flattener(game_title)\n",
    "weekly_sales_nums = flattener(weekly_sales)\n",
    "all_time_sales = flattener(total_sales)\n",
    "weeks_out = flattener(num_weeks_out)"
   ]
  },
  {
   "cell_type": "code",
   "execution_count": 104,
   "metadata": {},
   "outputs": [],
   "source": [
    "df = pd.DataFrame(columns=['Game Title', 'Weekly Sales', 'All Time Sales', 'Weeks Out'])"
   ]
  },
  {
   "cell_type": "code",
   "execution_count": 105,
   "metadata": {},
   "outputs": [],
   "source": [
    "df['Game Title'] = games\n",
    "df['Weekly Sales'] = weekly_sales_nums\n",
    "df['All Time Sales'] = all_time_sales\n",
    "df['Weeks Out'] = weeks_out"
   ]
  },
  {
   "cell_type": "code",
   "execution_count": 108,
   "metadata": {},
   "outputs": [],
   "source": [
    "df.to_csv('Video_Game_Data.csv')"
   ]
  },
  {
   "cell_type": "markdown",
   "metadata": {},
   "source": [
    "# USA Data"
   ]
  },
  {
   "cell_type": "code",
   "execution_count": 12,
   "metadata": {},
   "outputs": [],
   "source": [
    "starting_point = 43002\n",
    "\n",
    "while starting_point <= 43464:\n",
    "    c = webscraper(str(starting_point), 'USA')\n",
    "    d = data_collector(US_game_title, US_weekly_sales, US_total_sales, US_num_weeks_out, c)\n",
    "    starting_point+=7\n",
    "    time.sleep(3)"
   ]
  },
  {
   "cell_type": "code",
   "execution_count": 15,
   "metadata": {},
   "outputs": [],
   "source": [
    "US_games = flattener(US_game_title)\n",
    "US_weekly_sales_nums = flattener(US_weekly_sales)\n",
    "US_all_time_sales = flattener(US_total_sales)\n",
    "US_weeks_out = flattener(US_num_weeks_out)"
   ]
  },
  {
   "cell_type": "code",
   "execution_count": 16,
   "metadata": {},
   "outputs": [],
   "source": [
    "df2 = pd.DataFrame(columns=['US_Game_Title', 'US_Weekly_Sales', 'US_All_Time_Sales', 'US_Weeks_Out'])"
   ]
  },
  {
   "cell_type": "code",
   "execution_count": 17,
   "metadata": {},
   "outputs": [],
   "source": [
    "df2['US_Game_Title'] = US_games\n",
    "df2['US_Weekly_Sales'] = US_weekly_sales_nums\n",
    "df2['US_All_Time_Sales'] = US_all_time_sales\n",
    "df2['US_Weeks_Out'] = US_weeks_out"
   ]
  },
  {
   "cell_type": "code",
   "execution_count": 19,
   "metadata": {},
   "outputs": [],
   "source": [
    "df2.to_csv('US_Video_Game_Data.csv')"
   ]
  },
  {
   "cell_type": "code",
   "execution_count": null,
   "metadata": {},
   "outputs": [],
   "source": []
  }
 ],
 "metadata": {
  "kernelspec": {
   "display_name": "Python 3",
   "language": "python",
   "name": "python3"
  },
  "language_info": {
   "codemirror_mode": {
    "name": "ipython",
    "version": 3
   },
   "file_extension": ".py",
   "mimetype": "text/x-python",
   "name": "python",
   "nbconvert_exporter": "python",
   "pygments_lexer": "ipython3",
   "version": "3.7.1"
  }
 },
 "nbformat": 4,
 "nbformat_minor": 2
}
