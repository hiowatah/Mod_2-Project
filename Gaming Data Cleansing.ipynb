{
 "cells": [
  {
   "cell_type": "code",
   "execution_count": 1,
   "metadata": {},
   "outputs": [],
   "source": [
    "import requests\n",
    "import pandas as pd\n",
    "import numpy as np\n",
    "import matplotlib.pyplot as plt\n",
    "import seaborn as sns\n",
    "plt.style.use('seaborn')"
   ]
  },
  {
   "cell_type": "code",
   "execution_count": 2,
   "metadata": {},
   "outputs": [],
   "source": [
    "df = pd.read_csv('Video_Game_Data.csv', thousands = ',')\n",
    "df = df.drop(columns='Unnamed: 0')"
   ]
  },
  {
   "cell_type": "code",
   "execution_count": 14,
   "metadata": {},
   "outputs": [
    {
     "data": {
      "text/html": [
       "<div>\n",
       "<style scoped>\n",
       "    .dataframe tbody tr th:only-of-type {\n",
       "        vertical-align: middle;\n",
       "    }\n",
       "\n",
       "    .dataframe tbody tr th {\n",
       "        vertical-align: top;\n",
       "    }\n",
       "\n",
       "    .dataframe thead th {\n",
       "        text-align: right;\n",
       "    }\n",
       "</style>\n",
       "<table border=\"1\" class=\"dataframe\">\n",
       "  <thead>\n",
       "    <tr style=\"text-align: right;\">\n",
       "      <th></th>\n",
       "      <th>Game Title</th>\n",
       "      <th>Weekly Sales</th>\n",
       "      <th>All Time Sales</th>\n",
       "      <th>Weeks Out</th>\n",
       "    </tr>\n",
       "  </thead>\n",
       "  <tbody>\n",
       "    <tr>\n",
       "      <th>3085</th>\n",
       "      <td>NBA 2K19 (XOne)Take-Two Interactive, Sports</td>\n",
       "      <td>84187</td>\n",
       "      <td>1737777</td>\n",
       "      <td>16</td>\n",
       "    </tr>\n",
       "    <tr>\n",
       "      <th>3086</th>\n",
       "      <td>Madden NFL 19 (PS4)Electronic Arts, Sports</td>\n",
       "      <td>83796</td>\n",
       "      <td>2214368</td>\n",
       "      <td>21</td>\n",
       "    </tr>\n",
       "    <tr>\n",
       "      <th>3087</th>\n",
       "      <td>Assassin's Creed Odyssey (XOne)Ubisoft, Action...</td>\n",
       "      <td>78669</td>\n",
       "      <td>1388057</td>\n",
       "      <td>13</td>\n",
       "    </tr>\n",
       "    <tr>\n",
       "      <th>3088</th>\n",
       "      <td>Grand Theft Auto V (XOne)Take-Two Interactive,...</td>\n",
       "      <td>73714</td>\n",
       "      <td>8720682</td>\n",
       "      <td>215</td>\n",
       "    </tr>\n",
       "    <tr>\n",
       "      <th>3089</th>\n",
       "      <td>Fortnite (XOne)Gearbox Software, Action</td>\n",
       "      <td>66653</td>\n",
       "      <td>769347</td>\n",
       "      <td>76</td>\n",
       "    </tr>\n",
       "  </tbody>\n",
       "</table>\n",
       "</div>"
      ],
      "text/plain": [
       "                                             Game Title  Weekly Sales  \\\n",
       "3085        NBA 2K19 (XOne)Take-Two Interactive, Sports         84187   \n",
       "3086         Madden NFL 19 (PS4)Electronic Arts, Sports         83796   \n",
       "3087  Assassin's Creed Odyssey (XOne)Ubisoft, Action...         78669   \n",
       "3088  Grand Theft Auto V (XOne)Take-Two Interactive,...         73714   \n",
       "3089            Fortnite (XOne)Gearbox Software, Action         66653   \n",
       "\n",
       "      All Time Sales  Weeks Out  \n",
       "3085         1737777         16  \n",
       "3086         2214368         21  \n",
       "3087         1388057         13  \n",
       "3088         8720682        215  \n",
       "3089          769347         76  "
      ]
     },
     "execution_count": 14,
     "metadata": {},
     "output_type": "execute_result"
    }
   ],
   "source": [
    "#103 weeks worth of data X 30 data points per week\n",
    "df.tail()"
   ]
  },
  {
   "cell_type": "markdown",
   "metadata": {},
   "source": [
    "# Need to make a new DataFrame to make this ready for linear regression instead of time series"
   ]
  },
  {
   "cell_type": "code",
   "execution_count": 4,
   "metadata": {},
   "outputs": [],
   "source": [
    "#Since All time sales consistently changes - it would make my problem a time series issue. In order to fit the data\n",
    "#into a linear regression model, I am only obtaining the max sales for each game title and making a new Dataframe\n",
    "all_time_sales = list(df.groupby('Game Title').max()['All Time Sales'])"
   ]
  },
  {
   "cell_type": "code",
   "execution_count": 5,
   "metadata": {},
   "outputs": [],
   "source": [
    "weeks_out = list(df.groupby('Game Title').max()['Weeks Out'])"
   ]
  },
  {
   "cell_type": "code",
   "execution_count": 6,
   "metadata": {},
   "outputs": [],
   "source": [
    "game_title = list(df.groupby('Game Title').max().index)"
   ]
  },
  {
   "cell_type": "code",
   "execution_count": 16,
   "metadata": {},
   "outputs": [],
   "source": [
    "weekly_sales = list(df.groupby('Game Title').mean()['Weekly Sales'])"
   ]
  },
  {
   "cell_type": "code",
   "execution_count": 8,
   "metadata": {},
   "outputs": [],
   "source": [
    "df2 = pd.DataFrame(columns=['Game_Title', 'All_Time_Sales', 'Weeks_Out', 'Weekly_Sales'])"
   ]
  },
  {
   "cell_type": "code",
   "execution_count": 17,
   "metadata": {},
   "outputs": [],
   "source": [
    "df2.Game_Title = game_title\n",
    "df2.All_Time_Sales = all_time_sales\n",
    "df2.Weeks_Out = weeks_out\n",
    "df2.Weekly_Sales = weekly_sales"
   ]
  },
  {
   "cell_type": "code",
   "execution_count": 18,
   "metadata": {},
   "outputs": [],
   "source": [
    "#This code cleans out my Game Title column as you see above into separate columns.\n",
    "df2['Genre'] = df2['Game_Title'].map(lambda x: x.split(',')[1].strip())\n",
    "df2['Game_Title'] = df2['Game_Title'].map(lambda x: x.split(',')[0])\n",
    "df2['Console'] = df2['Game_Title'].map(lambda x: x.split('(')[-1].split(')')[0])\n",
    "df2['Publisher'] = df2['Game_Title'].map(lambda x: x.split('(')[-1].split(')')[-1])\n",
    "df2['Game_Title'] = df2['Game_Title'].map(lambda x: x.split('(')[0])"
   ]
  },
  {
   "cell_type": "code",
   "execution_count": 19,
   "metadata": {},
   "outputs": [],
   "source": [
    "#Issue with Pokemon: Let's Go, so have to clean out the appropriate columns \n",
    "df2 = df2.replace({'Console': \"Pokemon: Let's Go\"}, {'Console': 'NS'})\n",
    "df2 = df2.replace({'Publisher': \"Pokemon: Let's Go\"}, {'Publisher': 'Nintendo'})\n",
    "df2 = df2.replace({'Genre': \"Pikachu! (NS)Nintendo\"}, {'Genre': 'Role-Playing'})\n",
    "df2 = df2.replace({'Genre': \"Eevee! (NS)Nintendo\"}, {'Genre': 'Role-Playing'})\n",
    "df2.loc[342, 'Game_Title'] = \"Pokemon: Let's Go Eevee!\"\n",
    "df2.loc[343, 'Game_Title'] = \"Pokemon: Let's Go Pikachu!\""
   ]
  },
  {
   "cell_type": "code",
   "execution_count": 21,
   "metadata": {},
   "outputs": [],
   "source": [
    "df2.to_csv('Final DataFrame.csv')"
   ]
  },
  {
   "cell_type": "markdown",
   "metadata": {},
   "source": [
    "# Below contains my data cleansing on the entire raw dataset"
   ]
  },
  {
   "cell_type": "code",
   "execution_count": null,
   "metadata": {},
   "outputs": [],
   "source": [
    "#Data Cleansing\n",
    "df['Genre'] = df['Game Title'].map(lambda x: x.split(',')[1].strip())\n",
    "df['Game Title'] = df['Game Title'].map(lambda x: x.split(',')[0])\n",
    "df['Console'] = df['Game Title'].map(lambda x: x.split('(')[-1].split(')')[0])\n",
    "df['Publisher'] = df['Game Title'].map(lambda x: x.split('(')[-1].split(')')[-1])\n",
    "df['Game Title'] = df['Game Title'].map(lambda x: x.split('(')[0])"
   ]
  },
  {
   "cell_type": "code",
   "execution_count": null,
   "metadata": {},
   "outputs": [],
   "source": [
    "#get ratings for each game to add as another feature"
   ]
  },
  {
   "cell_type": "code",
   "execution_count": null,
   "metadata": {},
   "outputs": [],
   "source": [
    "#Issue with Pokemon: Let's Go, so have to clean out the appropriate columns \n",
    "df = df.replace({'Console': \"Pokemon: Let's Go\"}, {'Console': 'NS'})\n",
    "df = df.replace({'Publisher': \"Pokemon: Let's Go\"}, {'Publisher': 'Nintendo'})\n",
    "df = df.replace({'Genre': \"Pikachu! (NS)Nintendo\"}, {'Genre': 'Role-Playing'})\n",
    "df = df.replace({'Genre': \"Eevee! (NS)Nintendo\"}, {'Genre': 'Role-Playing'})"
   ]
  },
  {
   "cell_type": "code",
   "execution_count": null,
   "metadata": {},
   "outputs": [],
   "source": [
    "pika_locs = [2880, 2912, 2944, 2975, 3006, 3035, 3067]\n",
    "eevee_locs = [2881, 2919, 2949, 2981, 3011, 3042, 3072]\n",
    "\n",
    "for locs in pika_locs:\n",
    "    df.loc[locs, 'Game Title'] = \"Pokemon: Let's Go Pikachu!\"\n",
    "\n",
    "for locs in eevee_locs:\n",
    "    df.loc[locs, 'Game Title'] = \"Pokemon: Let's Go Eevee!\""
   ]
  },
  {
   "cell_type": "code",
   "execution_count": null,
   "metadata": {},
   "outputs": [],
   "source": [
    "#To clean up my data by getting rid of publishers with less than 5 appearances in my data set\n",
    "df['Count'] = df.groupby('Publisher')['Publisher'].transform('count')"
   ]
  },
  {
   "cell_type": "code",
   "execution_count": null,
   "metadata": {},
   "outputs": [],
   "source": [
    "df = df[df['Console'] != 'Sumikko Gurashi: Koko' ]"
   ]
  },
  {
   "cell_type": "code",
   "execution_count": null,
   "metadata": {},
   "outputs": [],
   "source": [
    "df.groupby('Console').sum()"
   ]
  },
  {
   "cell_type": "code",
   "execution_count": null,
   "metadata": {},
   "outputs": [],
   "source": [
    "df.info()"
   ]
  },
  {
   "cell_type": "code",
   "execution_count": null,
   "metadata": {},
   "outputs": [],
   "source": [
    "df.to_csv('Gaming_Data_Cleaned_Draft1.csv')"
   ]
  },
  {
   "cell_type": "code",
   "execution_count": null,
   "metadata": {},
   "outputs": [],
   "source": [
    "publishers = list(df.groupby('Publisher').max().index)"
   ]
  },
  {
   "cell_type": "code",
   "execution_count": null,
   "metadata": {},
   "outputs": [],
   "source": [
    "num_appearences = list(df.groupby('Publisher').max()['Count'])"
   ]
  },
  {
   "cell_type": "code",
   "execution_count": null,
   "metadata": {},
   "outputs": [],
   "source": [
    "publisher_data = list(zip(publishers,num_appearences))"
   ]
  },
  {
   "cell_type": "code",
   "execution_count": null,
   "metadata": {},
   "outputs": [],
   "source": [
    "publisher_data"
   ]
  },
  {
   "cell_type": "code",
   "execution_count": null,
   "metadata": {},
   "outputs": [],
   "source": []
  }
 ],
 "metadata": {
  "kernelspec": {
   "display_name": "Python 3",
   "language": "python",
   "name": "python3"
  },
  "language_info": {
   "codemirror_mode": {
    "name": "ipython",
    "version": 3
   },
   "file_extension": ".py",
   "mimetype": "text/x-python",
   "name": "python",
   "nbconvert_exporter": "python",
   "pygments_lexer": "ipython3",
   "version": "3.7.1"
  }
 },
 "nbformat": 4,
 "nbformat_minor": 2
}
