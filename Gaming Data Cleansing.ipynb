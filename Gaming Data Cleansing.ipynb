{
 "cells": [
  {
   "cell_type": "code",
   "execution_count": 165,
   "metadata": {},
   "outputs": [],
   "source": [
    "import requests\n",
    "import pandas as pd\n",
    "import numpy as np\n",
    "import matplotlib.pyplot as plt\n",
    "import seaborn as sns\n",
    "plt.style.use('seaborn')"
   ]
  },
  {
   "cell_type": "code",
   "execution_count": 140,
   "metadata": {},
   "outputs": [],
   "source": [
    "df = pd.read_csv('Video_Game_Data.csv', thousands = ',')\n",
    "df = df.drop(columns='Unnamed: 0')"
   ]
  },
  {
   "cell_type": "code",
   "execution_count": 141,
   "metadata": {},
   "outputs": [],
   "source": [
    "#Data Cleansing\n",
    "df['Genre'] = df['Game Title'].map(lambda x: x.split(',')[1].strip())\n",
    "df['Game Title'] = df['Game Title'].map(lambda x: x.split(',')[0])\n",
    "df['Console'] = df['Game Title'].map(lambda x: x.split('(')[-1].split(')')[0])\n",
    "df['Publisher'] = df['Game Title'].map(lambda x: x.split('(')[-1].split(')')[-1])\n",
    "df['Game Title'] = df['Game Title'].map(lambda x: x.split('(')[0])"
   ]
  },
  {
   "cell_type": "code",
   "execution_count": 142,
   "metadata": {},
   "outputs": [],
   "source": [
    "#get ratings for each game to add as another feature"
   ]
  },
  {
   "cell_type": "code",
   "execution_count": 143,
   "metadata": {},
   "outputs": [],
   "source": [
    "#Issue with Pokemon: Let's Go, so have to clean out the appropriate columns \n",
    "df = df.replace({'Console': \"Pokemon: Let's Go\"}, {'Console': 'NS'})\n",
    "df = df.replace({'Publisher': \"Pokemon: Let's Go\"}, {'Publisher': 'Nintendo'})\n",
    "df = df.replace({'Genre': \"Pikachu! (NS)Nintendo\"}, {'Genre': 'Role-Playing'})\n",
    "df = df.replace({'Genre': \"Eevee! (NS)Nintendo\"}, {'Genre': 'Role-Playing'})"
   ]
  },
  {
   "cell_type": "code",
   "execution_count": 144,
   "metadata": {},
   "outputs": [],
   "source": [
    "pika_locs = [2880, 2912, 2944, 2975, 3006, 3035, 3067]\n",
    "eevee_locs = [2881, 2919, 2949, 2981, 3011, 3042, 3072]\n",
    "\n",
    "for locs in pika_locs:\n",
    "    df.loc[locs, 'Game Title'] = \"Pokemon: Let's Go Pikachu!\"\n",
    "\n",
    "for locs in eevee_locs:\n",
    "    df.loc[locs, 'Game Title'] = \"Pokemon: Let's Go Eevee!\""
   ]
  },
  {
   "cell_type": "code",
   "execution_count": 145,
   "metadata": {},
   "outputs": [],
   "source": [
    "#To clean up my data by getting rid of publishers with less than 5 appearances in my data set\n",
    "df['Count'] = df.groupby('Publisher')['Publisher'].transform('count')"
   ]
  },
  {
   "cell_type": "code",
   "execution_count": 146,
   "metadata": {},
   "outputs": [],
   "source": [
    "df = df[df['Count'] >= 5]"
   ]
  },
  {
   "cell_type": "code",
   "execution_count": 147,
   "metadata": {},
   "outputs": [
    {
     "data": {
      "text/html": [
       "<div>\n",
       "<style scoped>\n",
       "    .dataframe tbody tr th:only-of-type {\n",
       "        vertical-align: middle;\n",
       "    }\n",
       "\n",
       "    .dataframe tbody tr th {\n",
       "        vertical-align: top;\n",
       "    }\n",
       "\n",
       "    .dataframe thead th {\n",
       "        text-align: right;\n",
       "    }\n",
       "</style>\n",
       "<table border=\"1\" class=\"dataframe\">\n",
       "  <thead>\n",
       "    <tr style=\"text-align: right;\">\n",
       "      <th></th>\n",
       "      <th>Game Title</th>\n",
       "      <th>Weekly Sales</th>\n",
       "      <th>All Time Sales</th>\n",
       "      <th>Weeks Out</th>\n",
       "      <th>Genre</th>\n",
       "      <th>Console</th>\n",
       "      <th>Publisher</th>\n",
       "      <th>Count</th>\n",
       "    </tr>\n",
       "  </thead>\n",
       "  <tbody>\n",
       "    <tr>\n",
       "      <th>0</th>\n",
       "      <td>Pokemon Sun/Moon</td>\n",
       "      <td>312949</td>\n",
       "      <td>12347479</td>\n",
       "      <td>8</td>\n",
       "      <td>Role-Playing</td>\n",
       "      <td>3DS</td>\n",
       "      <td>Nintendo</td>\n",
       "      <td>709</td>\n",
       "    </tr>\n",
       "    <tr>\n",
       "      <th>1</th>\n",
       "      <td>Grand Theft Auto V</td>\n",
       "      <td>162293</td>\n",
       "      <td>13692364</td>\n",
       "      <td>112</td>\n",
       "      <td>Action</td>\n",
       "      <td>PS4</td>\n",
       "      <td>Take-Two Interactive</td>\n",
       "      <td>307</td>\n",
       "    </tr>\n",
       "    <tr>\n",
       "      <th>2</th>\n",
       "      <td>Super Mario Maker</td>\n",
       "      <td>147107</td>\n",
       "      <td>1979933</td>\n",
       "      <td>6</td>\n",
       "      <td>Platform</td>\n",
       "      <td>3DS</td>\n",
       "      <td>Nintendo</td>\n",
       "      <td>709</td>\n",
       "    </tr>\n",
       "    <tr>\n",
       "      <th>3</th>\n",
       "      <td>FIFA 17</td>\n",
       "      <td>138161</td>\n",
       "      <td>9719745</td>\n",
       "      <td>15</td>\n",
       "      <td>Sports</td>\n",
       "      <td>PS4</td>\n",
       "      <td>Electronic Arts</td>\n",
       "      <td>381</td>\n",
       "    </tr>\n",
       "    <tr>\n",
       "      <th>4</th>\n",
       "      <td>Call of Duty: Infinite Warfare</td>\n",
       "      <td>134299</td>\n",
       "      <td>6329596</td>\n",
       "      <td>10</td>\n",
       "      <td>Shooter</td>\n",
       "      <td>PS4</td>\n",
       "      <td>Activision</td>\n",
       "      <td>294</td>\n",
       "    </tr>\n",
       "  </tbody>\n",
       "</table>\n",
       "</div>"
      ],
      "text/plain": [
       "                        Game Title  Weekly Sales  All Time Sales  Weeks Out  \\\n",
       "0                Pokemon Sun/Moon         312949        12347479          8   \n",
       "1              Grand Theft Auto V         162293        13692364        112   \n",
       "2               Super Mario Maker         147107         1979933          6   \n",
       "3                         FIFA 17         138161         9719745         15   \n",
       "4  Call of Duty: Infinite Warfare         134299         6329596         10   \n",
       "\n",
       "          Genre Console             Publisher  Count  \n",
       "0  Role-Playing     3DS              Nintendo    709  \n",
       "1        Action     PS4  Take-Two Interactive    307  \n",
       "2      Platform     3DS              Nintendo    709  \n",
       "3        Sports     PS4       Electronic Arts    381  \n",
       "4       Shooter     PS4            Activision    294  "
      ]
     },
     "execution_count": 147,
     "metadata": {},
     "output_type": "execute_result"
    }
   ],
   "source": [
    "df.head()"
   ]
  },
  {
   "cell_type": "code",
   "execution_count": 148,
   "metadata": {},
   "outputs": [
    {
     "name": "stdout",
     "output_type": "stream",
     "text": [
      "<class 'pandas.core.frame.DataFrame'>\n",
      "Int64Index: 3022 entries, 0 to 3089\n",
      "Data columns (total 8 columns):\n",
      "Game Title        3022 non-null object\n",
      "Weekly Sales      3022 non-null int64\n",
      "All Time Sales    3022 non-null int64\n",
      "Weeks Out         3022 non-null int64\n",
      "Genre             3022 non-null object\n",
      "Console           3022 non-null object\n",
      "Publisher         3022 non-null object\n",
      "Count             3022 non-null int64\n",
      "dtypes: int64(4), object(4)\n",
      "memory usage: 212.5+ KB\n"
     ]
    }
   ],
   "source": [
    "df.info()"
   ]
  },
  {
   "cell_type": "code",
   "execution_count": 149,
   "metadata": {},
   "outputs": [],
   "source": [
    "df.to_csv('Gaming_Data_Cleaned_Draft1')"
   ]
  },
  {
   "cell_type": "code",
   "execution_count": 152,
   "metadata": {},
   "outputs": [],
   "source": [
    "#To make my linear regression model better, I am going to obtain another feature in order to better explain the sales"
   ]
  },
  {
   "cell_type": "code",
   "execution_count": 193,
   "metadata": {},
   "outputs": [],
   "source": [
    "publishers = list(df.groupby('Publisher').max().index)"
   ]
  },
  {
   "cell_type": "code",
   "execution_count": 194,
   "metadata": {},
   "outputs": [],
   "source": [
    "num_appearences = list(df.groupby('Publisher').max()['Count'])"
   ]
  },
  {
   "cell_type": "code",
   "execution_count": 195,
   "metadata": {},
   "outputs": [],
   "source": [
    "publisher_data = list(zip(publishers,num_appearences))"
   ]
  },
  {
   "cell_type": "code",
   "execution_count": 196,
   "metadata": {},
   "outputs": [
    {
     "data": {
      "text/plain": [
       "[('505 Games', 8),\n",
       " ('Activision', 294),\n",
       " ('Atlus', 7),\n",
       " ('Bandai Namco Entertainment', 16),\n",
       " ('Bethesda Softworks', 67),\n",
       " ('Capcom', 88),\n",
       " ('Codemasters', 12),\n",
       " ('Deep Silver', 18),\n",
       " ('Electronic Arts', 381),\n",
       " ('Focus Home Interactive', 9),\n",
       " ('Frontier Developments', 6),\n",
       " ('Gearbox Software', 11),\n",
       " ('Koch Media', 8),\n",
       " ('Konami Digital Entertainment', 20),\n",
       " ('Level 5', 14),\n",
       " ('Maximum Games', 8),\n",
       " ('Microsoft Game Studios', 17),\n",
       " ('Microsoft Studios', 95),\n",
       " ('Mojang', 28),\n",
       " ('Namco Bandai Games', 85),\n",
       " ('Nintendo', 709),\n",
       " ('Rebellion Developments', 6),\n",
       " ('Sega', 30),\n",
       " ('Sony Computer Entertainment', 37),\n",
       " ('Sony Interactive Entertainment', 225),\n",
       " ('Square Enix', 126),\n",
       " ('Studio Wildcard', 5),\n",
       " ('Take-Two Interactive', 307),\n",
       " ('Tecmo Koei', 20),\n",
       " ('Ubisoft', 280),\n",
       " ('Warner Bros. Interactive Entertainment', 85)]"
      ]
     },
     "execution_count": 196,
     "metadata": {},
     "output_type": "execute_result"
    }
   ],
   "source": [
    "publisher_data"
   ]
  },
  {
   "cell_type": "code",
   "execution_count": null,
   "metadata": {},
   "outputs": [],
   "source": []
  }
 ],
 "metadata": {
  "kernelspec": {
   "display_name": "Python 3",
   "language": "python",
   "name": "python3"
  },
  "language_info": {
   "codemirror_mode": {
    "name": "ipython",
    "version": 3
   },
   "file_extension": ".py",
   "mimetype": "text/x-python",
   "name": "python",
   "nbconvert_exporter": "python",
   "pygments_lexer": "ipython3",
   "version": "3.7.1"
  }
 },
 "nbformat": 4,
 "nbformat_minor": 2
}
